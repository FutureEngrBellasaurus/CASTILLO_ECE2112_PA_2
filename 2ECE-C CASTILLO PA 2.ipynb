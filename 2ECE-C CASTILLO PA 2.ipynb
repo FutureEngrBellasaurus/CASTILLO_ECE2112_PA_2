{
 "cells": [
  {
   "cell_type": "markdown",
   "id": "fb7f718e-3c4c-4294-99dd-5352bfef82e7",
   "metadata": {},
   "source": [
    "### Programming Assignment 2 - NUMBER PYTHON (NUMPY)\n",
    "#### By: CASTILLO, Aurabella Macy F.\n",
    "#### Section: 2ECE-C"
   ]
  },
  {
   "cell_type": "code",
   "execution_count": 20,
   "id": "4037ca2b-41ce-477a-bc71-ad89aa880d6f",
   "metadata": {},
   "outputs": [],
   "source": [
    "import numpy as np"
   ]
  },
  {
   "cell_type": "markdown",
   "id": "745ec557-1c4e-4121-b4f6-80e0fe83099a",
   "metadata": {},
   "source": [
    "##### **PROBLEM 1** - NORMALIZATION PROBLEM: Normalization is one of the most basic preprocessing techniques in data analytics. This involves centering and scaling process. Centering means subtracting the data from the mean and scaling means dividing with its standard deviation. Save your normalized ndarray as X_normalized.npyy "
   ]
  },
  {
   "cell_type": "code",
   "execution_count": 26,
   "id": "a5ad6bd7-96fe-42dd-9f08-b0a5ea5270b2",
   "metadata": {},
   "outputs": [
    {
     "name": "stdout",
     "output_type": "stream",
     "text": [
      "Original Array:\n",
      "[[0.73212288 0.83059506 0.82179536 0.22573159 0.73346662]\n",
      " [0.26768862 0.45944733 0.21201316 0.5753728  0.2948235 ]\n",
      " [0.16134566 0.06441868 0.85519033 0.50966471 0.00285477]\n",
      " [0.96429818 0.79151665 0.7763656  0.17511806 0.27445371]\n",
      " [0.9653774  0.70703702 0.9704637  0.04447164 0.64691151]]\n",
      "\n",
      "Normalized Array:\n",
      "[[ 0.66405407  0.97600195  0.94812557 -0.94013179  0.66831089]\n",
      " [-0.80721703 -0.19974882 -0.98359009  0.16748895 -0.72125704]\n",
      " [-1.14409854 -1.45115139  1.05391674 -0.04066628 -1.64617837]\n",
      " [ 1.39955712  0.8522063   0.80420963 -1.10046928 -0.78578606]\n",
      " [ 1.40297596  0.58458512  1.41908874 -1.51434119  0.39411484]]\n"
     ]
    }
   ],
   "source": [
    "#Normalization Function\n",
    "X=np.random.random((5,5))\n",
    "normalized_X=((X-np.mean(X))/np.std(X))\n",
    "\n",
    "#Print Original Array\n",
    "print(\"Original Array:\")\n",
    "print(X)\n",
    "\n",
    "#Print Normalized Array\n",
    "print(\"\\nNormalized Array:\")\n",
    "print(normalized_X)\n",
    "\n",
    "#Save Normalized Array as ndarray\n",
    "np.save('X_normalized.npy', normalized_X)"
   ]
  },
  {
   "cell_type": "markdown",
   "id": "5d48dda8-8d49-4b2f-a460-f4fab6c1a791",
   "metadata": {},
   "source": [
    "##### **PROBLEM 2** - DIVISIBLE BY 3 PROBLEM: Create the following 10 x 10 ndarray. which are the squares of the first 100 positive integers. From this ndarray, determine all the elements that are divisible by 3. Save the result as div_by_3.npy"
   ]
  },
  {
   "cell_type": "code",
   "execution_count": 44,
   "id": "67d13e34-8a8b-404d-b08a-0b91f6e859d6",
   "metadata": {},
   "outputs": [
    {
     "name": "stdout",
     "output_type": "stream",
     "text": [
      "\n",
      "Squares of First 100 Positive Integers Array:\n",
      "[[    1     4     9    16    25    36    49    64    81   100]\n",
      " [  121   144   169   196   225   256   289   324   361   400]\n",
      " [  441   484   529   576   625   676   729   784   841   900]\n",
      " [  961  1024  1089  1156  1225  1296  1369  1444  1521  1600]\n",
      " [ 1681  1764  1849  1936  2025  2116  2209  2304  2401  2500]\n",
      " [ 2601  2704  2809  2916  3025  3136  3249  3364  3481  3600]\n",
      " [ 3721  3844  3969  4096  4225  4356  4489  4624  4761  4900]\n",
      " [ 5041  5184  5329  5476  5625  5776  5929  6084  6241  6400]\n",
      " [ 6561  6724  6889  7056  7225  7396  7569  7744  7921  8100]\n",
      " [ 8281  8464  8649  8836  9025  9216  9409  9604  9801 10000]]\n",
      "\n",
      "Squares of First 100 Positive Integers that is Divisible by 3 Array:\n",
      "[   9   36   81  144  225  324  441  576  729  900 1089 1296 1521 1764\n",
      " 2025 2304 2601 2916 3249 3600 3969 4356 4761 5184 5625 6084 6561 7056\n",
      " 7569 8100 8649 9216 9801]\n"
     ]
    }
   ],
   "source": [
    "#Generate an array of the first 100 integers\n",
    "integer = np.arange(1, 101)\n",
    "\n",
    "#Square each element in the array\n",
    "squares = integer ** 2\n",
    "\n",
    "#Reshape the array to a 10x10 matrix\n",
    "A = squares.reshape(10, 10)\n",
    "\n",
    "#Indice Function to find every squared integer divisible by 3\n",
    "indices = np.where(A % 3 == 0)\n",
    "\n",
    "# Extract the elements divisible by 3\n",
    "divisible_by_3 = A[indices]\n",
    "\n",
    "#Print Squares of First 100 Positive Integers Array\n",
    "print(\"\\nSquares of First 100 Positive Integers Array:\")\n",
    "print(A)\n",
    "\n",
    "#Print Squares of First 100 Positive Integers that is Divisible by 3 Array\n",
    "print(\"\\nSquares of First 100 Positive Integers that is Divisible by 3 Array:\")\n",
    "print(divisible_by_3)\n",
    "\n",
    "#Save the divisible_by_3 array to a .npy file\n",
    "np.save(\"div_by_3.npy\", divisible_by_3)"
   ]
  },
  {
   "cell_type": "code",
   "execution_count": null,
   "id": "4e140d4f-8ccf-4c5e-8b54-f6f95d96d24f",
   "metadata": {},
   "outputs": [],
   "source": []
  }
 ],
 "metadata": {
  "kernelspec": {
   "display_name": "Python 3 (ipykernel)",
   "language": "python",
   "name": "python3"
  },
  "language_info": {
   "codemirror_mode": {
    "name": "ipython",
    "version": 3
   },
   "file_extension": ".py",
   "mimetype": "text/x-python",
   "name": "python",
   "nbconvert_exporter": "python",
   "pygments_lexer": "ipython3",
   "version": "3.12.4"
  }
 },
 "nbformat": 4,
 "nbformat_minor": 5
}
